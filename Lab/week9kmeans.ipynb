{
 "cells": [
  {
   "cell_type": "code",
   "execution_count": 6,
   "id": "f004f75f-7377-4ec3-8cee-4a2833ce1b22",
   "metadata": {},
   "outputs": [
    {
     "name": "stdout",
     "output_type": "stream",
     "text": [
      "The predicted cluster for VAR1=0.906 and VAR2=0.606 is: 1\n"
     ]
    }
   ],
   "source": [
    "from sklearn.cluster import KMeans\n",
    "import numpy as np\n",
    "\n",
    "# Sample data\n",
    "data = np.array([[1.713,1.586], [0.180,1.786], [0.353,1.240],[0.940,1.566], [1.486,0.759], [1.266,1.106],[1.540,0.419],[0.459,1.799],[0.773,0.186]])\n",
    "y = np.array([0,1,1,0,1,0,1,1,1])\n",
    "\n",
    "# Fit k-means model with 3 clusters\n",
    "kmeans = KMeans(n_clusters=3, random_state=42)\n",
    "kmeans.fit(data)\n",
    "\n",
    "# Predict the cluster for a new instance\n",
    "new_instance = np.array([[0.906, 0.606]])\n",
    "predicted_cluster = kmeans.predict(new_instance)\n",
    "\n",
    "print(f\"The predicted cluster for VAR1=0.906 and VAR2=0.606 is: {predicted_cluster[0]}\")\n",
    "\n"
   ]
  },
  {
   "cell_type": "code",
   "execution_count": null,
   "id": "799fde44-9e87-4b2c-87ca-726808bcb1fb",
   "metadata": {},
   "outputs": [],
   "source": []
  }
 ],
 "metadata": {
  "kernelspec": {
   "display_name": "Python 3 (ipykernel)",
   "language": "python",
   "name": "python3"
  },
  "language_info": {
   "codemirror_mode": {
    "name": "ipython",
    "version": 3
   },
   "file_extension": ".py",
   "mimetype": "text/x-python",
   "name": "python",
   "nbconvert_exporter": "python",
   "pygments_lexer": "ipython3",
   "version": "3.12.0"
  }
 },
 "nbformat": 4,
 "nbformat_minor": 5
}
